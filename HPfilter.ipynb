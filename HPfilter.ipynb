{
  "cells": [
    {
      "cell_type": "markdown",
      "metadata": {
        "colab_type": "text",
        "id": "view-in-github"
      },
      "source": [
        "<a href=\"https://colab.research.google.com/github/tsenga2/keio-quant-macro/blob/main/HPfilter.ipynb\" target=\"_parent\"><img src=\"https://colab.research.google.com/assets/colab-badge.svg\" alt=\"Open In Colab\"/></a>"
      ]
    },
    {
      "cell_type": "code",
      "execution_count": null,
      "metadata": {
        "colab": {
          "base_uri": "https://localhost:8080/",
          "height": 430
        },
        "id": "D6bcDr7yE5-W",
        "outputId": "2a69c7e8-abea-4a04-be4a-8c2258a0dbe0"
      },
      "outputs": [],
      "source": [
        "import pandas as pd\n",
        "import pandas_datareader.data as web\n",
        "import matplotlib.pyplot as plt\n",
        "import statsmodels.api as sm\n",
        "import pandas_datareader as pdr\n",
        "import numpy as np\n",
        "import plotly.graph_objects as go\n",
        "\n",
        "# set the start and end dates for the data\n",
        "start_date = '1994-01-01'\n",
        "\n",
        "end_date = '2023-01-01'\n",
        "\n",
        "# download the data from FRED using pandas_datareader\n",
        "gdp_us = web.DataReader('GDPC1', 'fred', start_date, end_date)\n",
        "gdp_jp = web.DataReader('JPNRGDPEXP', 'fred', start_date, end_date)\n",
        "log_gdp_us = np.log(gdp_us)\n",
        "log_gdp_jp = np.log(gdp_jp)\n",
        "\n",
        "# calculate the quarterly percent change in real GDP\n",
        "gdp_pct_change_us = gdp_us.pct_change(4)\n",
        "gdp_pct_change_jp = gdp_jp.pct_change(4)\n",
        "\n",
        "# apply a Hodrick-Prescott filter to the data to extract the cyclical component\n",
        "cycle_us, trend_us = sm.tsa.filters.hpfilter(log_gdp_us, lamb=1600)\n",
        "cycle_jp, trend_jp = sm.tsa.filters.hpfilter(log_gdp_jp, lamb=1600)\n",
        "\n",
        "# Create an interactive plot using Plotly\n",
        "fig = go.Figure()\n",
        "fig2 = go.Figure()\n",
        "\n",
        "# Add traces for the original GDP data\n",
        "fig.add_trace(go.Scatter(x=log_gdp_us.index, y=log_gdp_us.values.flatten(), mode='lines', name='US GDP (log)'))\n",
        "fig2.add_trace(go.Scatter(x=log_gdp_jp.index, y=log_gdp_jp.values.flatten(), mode='lines', name='Japan GDP (log)'))\n",
        "\n",
        "# Add traces for the trend components\n",
        "fig.add_trace(go.Scatter(x=trend_us.index, y=trend_us.values.flatten(), mode='lines', name='US Trend'))\n",
        "fig2.add_trace(go.Scatter(x=trend_jp.index, y=trend_jp.values.flatten(), mode='lines', name='Japan Trend'))\n",
        "\n",
        "# Update the layout\n",
        "fig.update_layout(title='US GDP and Business Cycle Trend',xaxis_title='Date',yaxis_title='Real GDP (log)',hovermode='x unified')\n",
        "fig.update_layout(title='JP GDP and Business Cycle Trend',xaxis_title='Date',yaxis_title='Real GDP (log)',hovermode='x unified')\n",
        "# Display the plot\n",
        "fig.show()\n",
        "fig2.show()"
      ]
    }
  ],
  "metadata": {
    "colab": {
      "authorship_tag": "ABX9TyOt7NKfOjxMP4rbZEUfX2Hr",
      "include_colab_link": true,
      "provenance": []
    },
    "kernelspec": {
      "display_name": "Python 3",
      "name": "python3"
    },
    "language_info": {
      "codemirror_mode": {
        "name": "ipython",
        "version": 3
      },
      "file_extension": ".py",
      "mimetype": "text/x-python",
      "name": "python",
      "nbconvert_exporter": "python",
      "pygments_lexer": "ipython3",
      "version": "3.9.13"
    }
  },
  "nbformat": 4,
  "nbformat_minor": 0
}
