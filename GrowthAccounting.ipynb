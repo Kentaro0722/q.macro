{
  "cells": [
    {
      "cell_type": "markdown",
      "metadata": {
        "colab_type": "text",
        "id": "view-in-github"
      },
      "source": [
        "<a href=\"https://colab.research.google.com/github/tsenga2/keio-quant-macro/blob/main/GrowthAccounting.ipynb\" target=\"_parent\"><img src=\"https://colab.research.google.com/assets/colab-badge.svg\" alt=\"Open In Colab\"/></a>"
      ]
    },
    {
      "cell_type": "code",
      "execution_count": 2,
      "metadata": {
        "colab": {
          "base_uri": "https://localhost:8080/",
          "height": 959
        },
        "id": "EjhfD-rszB3I",
        "outputId": "d456bbb6-99ab-4dbf-ed30-e6ec93845521"
      },
      "outputs": [
        {
          "name": "stdout",
          "output_type": "stream",
          "text": [
            "       Country  Growth Rate  TFP Growth  Capital Deepening  Labor Growth  TFP Share  Capital Share  Labor Share\n",
            "     Australia        1.19%       0.69%              0.43%         0.07%     58.07%         36.37%        5.55%\n",
            "       Austria        1.46%       0.59%              0.79%         0.08%     40.56%         53.97%        5.47%\n",
            "       Belgium        1.39%       0.50%              0.69%         0.20%     35.99%         49.55%       14.47%\n",
            "        Canada        0.93%       0.19%              0.55%         0.20%     20.25%         58.66%       21.09%\n",
            "       Denmark        1.50%       0.79%              0.61%         0.11%     52.22%         40.34%        7.44%\n",
            "       Finland        1.89%       0.89%              0.82%         0.18%     46.88%         43.49%        9.63%\n",
            "        France        1.36%       0.71%              0.57%         0.09%     51.73%         41.47%        6.80%\n",
            "       Germany        1.47%       1.00%              0.59%        -0.12%     67.70%         40.14%       -7.84%\n",
            "        Greece        0.72%      -0.42%              0.77%         0.38%    -58.45%        105.73%       52.72%\n",
            "       Iceland        1.84%       1.25%              0.40%         0.19%     67.73%         21.99%       10.28%\n",
            "       Ireland        3.22%       1.63%              1.58%         0.01%     50.65%         48.96%        0.39%\n",
            "         Italy        0.99%      -0.18%              0.83%         0.34%    -17.94%         83.96%       33.98%\n",
            "         Japan        1.66%       0.66%              0.96%         0.04%     39.49%         57.91%        2.60%\n",
            "   Netherlands        1.01%       0.58%              0.34%         0.09%     56.96%         33.83%        9.21%\n",
            "   New Zealand        1.01%       0.27%              0.71%         0.03%     27.06%         69.63%        3.31%\n",
            "        Norway        1.47%       0.60%              0.84%         0.02%     41.07%         57.54%        1.39%\n",
            "      Portugal        1.53%       0.13%              0.83%         0.58%      8.33%         54.01%       37.65%\n",
            "         Spain        1.42%       0.36%              0.82%         0.24%     25.67%         57.57%       16.76%\n",
            "        Sweden        1.62%       0.75%              0.60%         0.27%     46.09%         36.98%       16.93%\n",
            "   Switzerland        0.73%       0.42%              0.41%        -0.10%     57.90%         55.99%      -13.89%\n",
            "United Kingdom        1.59%       0.60%              0.73%         0.26%     37.81%         46.10%       16.08%\n",
            " United States        1.50%       0.92%              0.41%         0.17%     61.34%         27.25%       11.41%\n",
            "       Average        1.43%       0.59%              0.69%         0.15%     37.14%         50.97%       11.88%\n"
          ]
        }
      ],
      "source": [
        "import pandas as pd\n",
        "\n",
        "def calculate_average_growth_rate(data, start_year, end_year, column):\n",
        "    start_value = data.loc[data['year'] == start_year, column].iloc[0]\n",
        "    end_value = data.loc[data['year'] == end_year, column].iloc[0]\n",
        "    years = end_year - start_year\n",
        "    avg_growth_rate = (end_value / start_value) ** (1 / years) - 1\n",
        "    return avg_growth_rate\n",
        "\n",
        "# Load data\n",
        "url = 'https://dataverse.nl/api/access/datafile/354098'\n",
        "pwt1001 = pd.read_stata(url)\n",
        "\n",
        "# Filter and select relevant columns\n",
        "countries = ['Australia', 'Austria', 'Belgium', 'Canada', 'Denmark', 'Finland', 'France', 'Germany', 'Greece', 'Iceland', 'Ireland', 'Italy', 'Japan', 'Netherlands', 'New Zealand', 'Norway', 'Portugal', 'Spain', 'Sweden', 'Switzerland', 'United Kingdom', 'United States']\n",
        "data = pwt1001.loc[pwt1001['country'].isin(countries)][['year', 'countrycode', 'country', 'rgdpna', 'rnna', 'emp', 'avh', 'labsh', 'hc', 'rtfpna']]\n",
        "data = data.loc[(data['year'] >= 1975) & (data['year'] <= 2019)].dropna()\n",
        "\n",
        "# Calculate additional variables\n",
        "data['alpha'] = 1 - data['labsh']\n",
        "data['gdp_per_worker'] = data['rgdpna'] / data['emp']\n",
        "data['capital_per_worker'] = data['rnna'] / data['emp']\n",
        "data['human_capital_per_worker'] = data['hc']\n",
        "data['hours_per_worker'] = data['avh']\n",
        "\n",
        "# Calculate average growth rates for each country\n",
        "results = []\n",
        "for country in countries:\n",
        "    country_data = data[data['country'] == country]\n",
        "    alpha = country_data['alpha'].mean()\n",
        "    gdp_growth = calculate_average_growth_rate(country_data, 1975, 2019, 'gdp_per_worker')\n",
        "    capital_deepening = calculate_average_growth_rate(country_data, 1975, 2019, 'capital_per_worker') * alpha\n",
        "    hc_growth = calculate_average_growth_rate(country_data, 1975, 2019, 'human_capital_per_worker')\n",
        "    hours_growth = calculate_average_growth_rate(country_data, 1975, 2019, 'hours_per_worker')\n",
        "    labor_growth = (1 - alpha) * (hc_growth + hours_growth)\n",
        "    tfp_growth = gdp_growth - capital_deepening - labor_growth\n",
        "    tfp_share = tfp_growth / gdp_growth\n",
        "    capital_share = capital_deepening / gdp_growth\n",
        "    labor_share = labor_growth / gdp_growth\n",
        "    results.append({\n",
        "        'Country': country,\n",
        "        'Growth Rate': gdp_growth,\n",
        "        'TFP Growth': tfp_growth,\n",
        "        'Capital Deepening': capital_deepening,\n",
        "        'Labor Growth': labor_growth,\n",
        "        'TFP Share': tfp_share,\n",
        "        'Capital Share': capital_share,\n",
        "        'Labor Share': labor_share\n",
        "    })\n",
        "\n",
        "# Create a DataFrame from the results\n",
        "growth_accounting_table = pd.DataFrame(results)\n",
        "\n",
        "# Calculate the average values for each column\n",
        "average_values = {\n",
        "    'Country': 'Average',\n",
        "    'Growth Rate': growth_accounting_table['Growth Rate'].mean(),\n",
        "    'TFP Growth': growth_accounting_table['TFP Growth'].mean(),\n",
        "    'Capital Deepening': growth_accounting_table['Capital Deepening'].mean(),\n",
        "    'Labor Growth': growth_accounting_table['Labor Growth'].mean(),\n",
        "    'TFP Share': growth_accounting_table['TFP Share'].mean(),\n",
        "    'Capital Share': growth_accounting_table['Capital Share'].mean(),\n",
        "    'Labor Share': growth_accounting_table['Labor Share'].mean()\n",
        "}\n",
        "\n",
        "# Convert the average_values dictionary to a DataFrame\n",
        "average_values_df = pd.DataFrame([average_values])\n",
        "\n",
        "# Concatenate the average_values_df with the growth_accounting_table\n",
        "growth_accounting_table = pd.concat([growth_accounting_table, average_values_df], ignore_index=True)\n",
        "\n",
        "# Display the updated table\n",
        "print(growth_accounting_table.to_string(index=False, float_format='{:.2%}'.format))"
      ]
    }
  ],
  "metadata": {
    "colab": {
      "include_colab_link": true,
      "provenance": []
    },
    "kernelspec": {
      "display_name": "Python 3",
      "name": "python3"
    },
    "language_info": {
      "codemirror_mode": {
        "name": "ipython",
        "version": 3
      },
      "file_extension": ".py",
      "mimetype": "text/x-python",
      "name": "python",
      "nbconvert_exporter": "python",
      "pygments_lexer": "ipython3",
      "version": "3.9.13"
    }
  },
  "nbformat": 4,
  "nbformat_minor": 0
}
