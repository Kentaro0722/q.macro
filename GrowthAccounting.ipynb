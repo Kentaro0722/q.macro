{
  "cells": [
    {
      "cell_type": "markdown",
      "metadata": {
        "colab_type": "text",
        "id": "view-in-github"
      },
      "source": [
        "<a href=\"https://colab.research.google.com/github/tsenga2/keio-quant-macro/blob/main/GrowthAccounting.ipynb\" target=\"_parent\"><img src=\"https://colab.research.google.com/assets/colab-badge.svg\" alt=\"Open In Colab\"/></a>"
      ]
    },
    {
      "cell_type": "code",
      "execution_count": 1,
      "metadata": {},
      "outputs": [
        {
          "name": "stdout",
          "output_type": "stream",
          "text": [
            "       Country  Growth Rate  TFP Growth  Capital Deepening  TFP Share  Capital Share\n",
            "     Australia        1.28%       0.87%              0.41%     68.09%         31.91%\n",
            "       Austria        1.04%       0.48%              0.56%     45.77%         54.23%\n",
            "       Belgium        0.95%       0.34%              0.61%     36.10%         63.90%\n",
            "        Canada        0.98%       0.45%              0.52%     46.36%         53.64%\n",
            "       Denmark        1.36%       0.86%              0.50%     63.29%         36.71%\n",
            "       Finland        1.45%       0.79%              0.65%     54.81%         45.19%\n",
            "        France        0.91%       0.46%              0.45%     50.82%         49.18%\n",
            "       Germany        1.04%       0.58%              0.47%     55.44%         44.56%\n",
            "        Greece        0.73%       0.18%              0.55%     24.25%         75.75%\n",
            "       Iceland        1.75%       1.47%              0.28%     84.11%         15.89%\n",
            "       Ireland        3.17%       1.62%              1.56%     50.97%         49.03%\n",
            "         Italy        0.31%      -0.29%              0.59%    -93.69%        193.69%\n",
            "         Japan        0.71%       0.16%              0.55%     22.24%         77.76%\n",
            "   Netherlands        0.90%       0.60%              0.30%     66.35%         33.65%\n",
            "   New Zealand        1.21%       0.64%              0.57%     53.06%         46.94%\n",
            "        Norway        1.16%       0.47%              0.70%     40.04%         59.96%\n",
            "      Portugal        1.09%       0.36%              0.73%     33.17%         66.83%\n",
            "         Spain        0.83%       0.28%              0.55%     33.35%         66.65%\n",
            "        Sweden        1.84%       1.33%              0.51%     72.43%         27.57%\n",
            "   Switzerland        0.72%       0.34%              0.38%     46.94%         53.06%\n",
            "United Kingdom        1.26%       0.67%              0.59%     53.01%         46.99%\n",
            " United States        1.60%       1.14%              0.46%     71.05%         28.95%\n",
            "       Average        1.20%       0.63%              0.57%     44.45%         55.55%\n"
          ]
        }
      ],
      "source": [
        "import pandas as pd\n",
        "import numpy as np\n",
        "\n",
        "def calculate_average_growth_rate(data, start_year, end_year, column):\n",
        "    start_value = data.loc[data['year'] == start_year, column].iloc[0]\n",
        "    end_value = data.loc[data['year'] == end_year, column].iloc[0]\n",
        "    years = end_year - start_year\n",
        "    avg_growth_rate = np.exp(np.log(end_value / start_value) / years) - 1\n",
        "    return avg_growth_rate\n",
        "\n",
        "# Load data\n",
        "url = 'https://dataverse.nl/api/access/datafile/354098'\n",
        "pwt1001 = pd.read_stata(url)\n",
        "\n",
        "# Filter and select relevant columns\n",
        "countries = ['Australia', 'Austria', 'Belgium', 'Canada', 'Denmark', 'Finland', 'France', 'Germany', 'Greece', 'Iceland', 'Ireland', 'Italy', 'Japan', 'Netherlands', 'New Zealand', 'Norway', 'Portugal', 'Spain', 'Sweden', 'Switzerland', 'United Kingdom', 'United States']\n",
        "data = pwt1001.loc[pwt1001['country'].isin(countries)][['year', 'countrycode', 'country', 'rgdpna', 'rnna', 'emp', 'labsh', 'rtfpna']]\n",
        "data = data.loc[(data['year'] >= 1990) & (data['year'] <= 2019)].dropna()\n",
        "\n",
        "# Calculate additional variables\n",
        "data['alpha'] = 1 - data['labsh']\n",
        "data['gdp_per_worker'] = data['rgdpna'] / data['emp']\n",
        "data['capital_per_worker'] = data['rnna'] / data['emp']\n",
        "\n",
        "# Calculate average growth rates for each country\n",
        "results = []\n",
        "for country in countries:\n",
        "    country_data = data[data['country'] == country]\n",
        "    alpha = country_data['alpha'].mean()\n",
        "    gdp_growth = calculate_average_growth_rate(country_data, 1990, 2019, 'gdp_per_worker')\n",
        "    capital_deepening = calculate_average_growth_rate(country_data, 1990, 2019, 'capital_per_worker') * alpha\n",
        "    tfp_growth = gdp_growth - capital_deepening\n",
        "    tfp_share = tfp_growth / gdp_growth\n",
        "    capital_share = capital_deepening / gdp_growth\n",
        "    \n",
        "    results.append({\n",
        "        'Country': country,\n",
        "        'Growth Rate': gdp_growth,\n",
        "        'TFP Growth': tfp_growth,\n",
        "        'Capital Deepening': capital_deepening,\n",
        "        'TFP Share': tfp_share,\n",
        "        'Capital Share': capital_share\n",
        "    })\n",
        "\n",
        "# Create a DataFrame from the results\n",
        "growth_accounting_table = pd.DataFrame(results)\n",
        "\n",
        "# Calculate the average values for each column\n",
        "average_values = {\n",
        "    'Country': 'Average',\n",
        "    'Growth Rate': growth_accounting_table['Growth Rate'].mean(),\n",
        "    'TFP Growth': growth_accounting_table['TFP Growth'].mean(),\n",
        "    'Capital Deepening': growth_accounting_table['Capital Deepening'].mean(),\n",
        "    'TFP Share': growth_accounting_table['TFP Share'].mean(),\n",
        "    'Capital Share': growth_accounting_table['Capital Share'].mean()\n",
        "}\n",
        "\n",
        "# Convert the average_values dictionary to a DataFrame\n",
        "average_values_df = pd.DataFrame([average_values])\n",
        "\n",
        "# Concatenate the average_values_df with the growth_accounting_table\n",
        "growth_accounting_table = pd.concat([growth_accounting_table, average_values_df], ignore_index=True)\n",
        "\n",
        "# Display the updated table\n",
        "print(growth_accounting_table.to_string(index=False, float_format='{:.2%}'.format))"
      ]
    }
  ],
  "metadata": {
    "colab": {
      "include_colab_link": true,
      "provenance": []
    },
    "kernelspec": {
      "display_name": "Python 3",
      "name": "python3"
    },
    "language_info": {
      "codemirror_mode": {
        "name": "ipython",
        "version": 3
      },
      "file_extension": ".py",
      "mimetype": "text/x-python",
      "name": "python",
      "nbconvert_exporter": "python",
      "pygments_lexer": "ipython3",
      "version": "3.9.13"
    }
  },
  "nbformat": 4,
  "nbformat_minor": 0
}
